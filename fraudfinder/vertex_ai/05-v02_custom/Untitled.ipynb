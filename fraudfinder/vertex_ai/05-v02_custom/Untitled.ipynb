{
 "cells": [
  {
   "cell_type": "code",
   "execution_count": 1,
   "id": "ef8f1c5d-f6dc-4ebc-b87f-a3387186c4b5",
   "metadata": {
    "tags": []
   },
   "outputs": [
    {
     "name": "stdout",
     "output_type": "stream",
     "text": [
      "\u001b[33m  WARNING: The script tb-gcp-uploader is installed in '/home/jupyter/.local/bin' which is not on PATH.\n",
      "  Consider adding this directory to PATH or, if you prefer to suppress this warning, use --no-warn-script-location.\u001b[0m\u001b[33m\n",
      "\u001b[0mNote: you may need to restart the kernel to use updated packages.\n"
     ]
    }
   ],
   "source": [
    "%pip install --upgrade --user --quiet google-cloud-aiplatform"
   ]
  },
  {
   "cell_type": "code",
   "execution_count": 2,
   "id": "2b25bb42-61e0-424a-8a2d-9e645178437a",
   "metadata": {
    "tags": []
   },
   "outputs": [
    {
     "data": {
      "text/plain": [
       "{'status': 'ok', 'restart': True}"
      ]
     },
     "execution_count": 2,
     "metadata": {},
     "output_type": "execute_result"
    }
   ],
   "source": [
    "# Restart kernel after installs so that your environment can access the new packages\n",
    "import IPython\n",
    "import time\n",
    "\n",
    "app = IPython.Application.instance()\n",
    "app.kernel.do_shutdown(True)"
   ]
  },
  {
   "cell_type": "code",
   "execution_count": 1,
   "id": "40b015fb-6377-4666-b9d1-cf994999d999",
   "metadata": {
    "tags": []
   },
   "outputs": [],
   "source": [
    "from google.cloud import aiplatform as vertex_ai\n",
    "from google.cloud.aiplatform import Featurestore, EntityType, Feature"
   ]
  },
  {
   "cell_type": "code",
   "execution_count": 2,
   "id": "7576b4a9-87c8-4d53-9e13-a2c1b727c9f2",
   "metadata": {
    "tags": []
   },
   "outputs": [],
   "source": [
    "# Persistent Resource ID\n",
    "PERSISTENT_RESOURCE_ID = \"ai-takeoff\""
   ]
  },
  {
   "cell_type": "code",
   "execution_count": 15,
   "id": "ec1f4045-b19b-4239-96c3-b01550340473",
   "metadata": {
    "tags": []
   },
   "outputs": [
    {
     "name": "stdout",
     "output_type": "stream",
     "text": [
      "Persistent Resource found in us-central1\n"
     ]
    }
   ],
   "source": [
    "# Dynamically retrieve Persistent Resource location\n",
    "PERSISTENT_RESOURCE_REGION = \"\"\n",
    "check_regions = [\"us-central1\", \"asia-southeast1\", \"europe-west4\"]\n",
    "\n",
    "for region in check_regions:\n",
    "    shell_output = !gcloud ai persistent-resources list --project=$PROJECT_ID --region=$region\n",
    "    if \"Listed 0 items.\" not in shell_output:\n",
    "        print(f\"Persistent Resource found in {region}\")\n",
    "        PERSISTENT_RESOURCE_REGION = region"
   ]
  },
  {
   "cell_type": "code",
   "execution_count": 16,
   "id": "e1af2c46-ab1c-4401-9403-c2d2d2e03886",
   "metadata": {
    "tags": []
   },
   "outputs": [
    {
     "name": "stdout",
     "output_type": "stream",
     "text": [
      "\n",
      "BUCKET_NAME          = \"fraud123-438914-fraudfinder\"\n",
      "PROJECT              = \"fraud123-438914\"\n",
      "REGION               = \"us-central1\"\n",
      "ID                   = \"fipp8\"\n",
      "FEATURESTORE_ID      = \"fraudfinder_fipp8\"\n",
      "MODEL_NAME           = \"ff_model\"\n",
      "ENDPOINT_NAME        = \"ff_model_endpoint\"\n",
      "TRAINING_DS_SIZE     = \"1000\"\n",
      "DATA_DIR             = \"data\"\n",
      "TRAIN_DATA_DIR       = \"train\"\n",
      "CUSTOMER_ENTITY      = \"customer\"\n",
      "TERMINAL_ENTITY      = \"terminal\"\n",
      "TARGET               = \"tx_fraud\"\n",
      "\n"
     ]
    }
   ],
   "source": [
    "GCP_PROJECTS = !gcloud config get-value project\n",
    "PROJECT_ID = GCP_PROJECTS[0]\n",
    "BUCKET_NAME = f\"{PROJECT_ID}-fraudfinder\"\n",
    "config = !gsutil cat gs://{BUCKET_NAME}/config/notebook_env_v02.py\n",
    "print(config.n)\n",
    "exec(config.n)"
   ]
  },
  {
   "cell_type": "code",
   "execution_count": 17,
   "id": "0108fa41-92f3-4072-941b-7479397b9820",
   "metadata": {
    "tags": []
   },
   "outputs": [
    {
     "name": "stdout",
     "output_type": "stream",
     "text": [
      "Service Account is ENABLED on Persistent Resource\n"
     ]
    }
   ],
   "source": [
    "# Check if Service Account is enabled on Persistent Resource\n",
    "SA_ENABLED = \"\"\n",
    "\n",
    "DESCRIBE_PR_OUTPUT = !gcloud ai persistent-resources describe $PERSISTENT_RESOURCE_ID --project=$PROJECT_ID --region=$PERSISTENT_RESOURCE_REGION\n",
    "PR_DETAILS = \" \".join(DESCRIBE_PR_OUTPUT)\n",
    "\n",
    "if \"enableCustomServiceAccount: true\" in PR_DETAILS:\n",
    "    SA_ENABLED = True\n",
    "    print(f\"Service Account is ENABLED on Persistent Resource\")\n",
    "else:\n",
    "    SA_ENABLED = False\n",
    "    print(f\"Service Account is NOT ENABLED on Persistent Resource\")"
   ]
  },
  {
   "cell_type": "code",
   "execution_count": 18,
   "id": "73c34cf7-5695-4f29-8b7c-cdcb31bb71d0",
   "metadata": {
    "tags": []
   },
   "outputs": [
    {
     "name": "stdout",
     "output_type": "stream",
     "text": [
      "Project ID: fraud123-438914\n",
      "Project Region: us-central1\n"
     ]
    }
   ],
   "source": [
    "# Set the default region for launching jobs.\n",
    "REGION = PERSISTENT_RESOURCE_REGION\n",
    "\n",
    "print(f\"Project ID:\", PROJECT_ID)\n",
    "print(f\"Project Region:\", REGION)"
   ]
  },
  {
   "cell_type": "code",
   "execution_count": 19,
   "id": "5b2a83dc-c886-4979-ad0b-b45b850e5ea5",
   "metadata": {
    "tags": []
   },
   "outputs": [
    {
     "name": "stdout",
     "output_type": "stream",
     "text": [
      "Using this default Service Account: 520607199607-compute@developer.gserviceaccount.com\n"
     ]
    }
   ],
   "source": [
    "# Gets the default BUCKET_URI and SERVICE_ACCOUNT if they were not specified by the user.\n",
    "shell_output = ! gcloud projects describe $PROJECT_ID\n",
    "project_number = shell_output[-1].split(\":\")[1].strip().replace(\"'\", \"\")\n",
    "SERVICE_ACCOUNT = f\"{project_number}-compute@developer.gserviceaccount.com\"\n",
    "print(\"Using this default Service Account:\", SERVICE_ACCOUNT)"
   ]
  },
  {
   "cell_type": "code",
   "execution_count": 20,
   "id": "78b9f632-d61c-4594-a05e-2212b797e3a4",
   "metadata": {
    "tags": []
   },
   "outputs": [
    {
     "name": "stdout",
     "output_type": "stream",
     "text": [
      "CommandException: Incorrect public member type for binding fraud123-438914-fraudfinder:\n"
     ]
    }
   ],
   "source": [
    "!gsutil iam ch serviceAccount:{SERVICE_ACCOUNT}:roles/storage.admin $BUCKET_NAME"
   ]
  },
  {
   "cell_type": "code",
   "execution_count": 21,
   "id": "818af6b8-88d7-4a3a-a335-b112a54c5743",
   "metadata": {
    "tags": []
   },
   "outputs": [
    {
     "name": "stdout",
     "output_type": "stream",
     "text": [
      "Initializing Vertex AI API.\n"
     ]
    }
   ],
   "source": [
    "# Initialize Vertex AI API.\n",
    "print(\"Initializing Vertex AI API.\")\n",
    "vertex_ai.init(project=PROJECT_ID, location=REGION, staging_bucket=BUCKET_NAME)"
   ]
  },
  {
   "cell_type": "code",
   "execution_count": 22,
   "id": "0dd1d30a-00f7-4774-b788-ef0e5e2cf458",
   "metadata": {
    "tags": []
   },
   "outputs": [
    {
     "name": "stdout",
     "output_type": "stream",
     "text": [
      "us-central1-docker.pkg.dev/fraud123-438914/fraudfinder-fvde2/fraud-detection-image\n"
     ]
    }
   ],
   "source": [
    "from google.cloud import aiplatform\n",
    "\n",
    "# Project and region\n",
    "#PROJECT_ID = \"your-project-id\"  # Replace with your project ID\n",
    "#REGION = \"your-region\"          # Replace with your region\n",
    "\n",
    "# Persistent resource details\n",
    "PERSISTENT_RESOURCE_ID = \"ai-takeoff\"\n",
    "IMAGE_NAME=\"fraud-detection-image\"\n",
    "\n",
    "# Custom container details\n",
    "#CONTAINER_URI = f\"{REGION}-docker.pkg.dev/{PROJECT_ID}/{FEATURESTORE_ID}/{IMAGE_NAME}\" \n",
    "CONTAINER_URI= \"us-central1-docker.pkg.dev/fraud123-438914/fraudfinder-fvde2/fraud-detection-image\"\n",
    "MACHINE_TYPE = \"n1-standard-4\" \n",
    "ACCELERATOR_TYPE = \"NVIDIA_TESLA_T4\"  # Or None if not using\n",
    "ACCELERATOR_COUNT = 1                # Or 0 if not using\n",
    "\n",
    "#\n",
    "print(CONTAINER_URI)\n",
    "#\n",
    "# Training job specifications\n",
    "TRAINING_SCRIPT_PATH = \"app/main.py\"  \n",
    "#INPUT_DATA_PATH = \"gs://your-bucket/data\"  \n",
    "#OUTPUT_DIR = \"gs://your-bucket/output\" \n",
    "\n",
    "# Initialize Vertex AI client\n",
    "aiplatform.init(project=PROJECT_ID, location=REGION, staging_bucket=BUCKET_NAME)\n",
    "\n",
    "machine_type=\"n1-standard-8\"\n",
    "replica_count=\"1\"\n",
    "\n",
    "# Define the custom training job\n",
    "job = aiplatform.CustomJob(\n",
    "    display_name=\"fraudfinder-job\",\n",
    "    worker_pool_specs=[\n",
    "        {\n",
    "            \"machine_spec\": {\n",
    "                \"machine_type\": machine_type,\n",
    "                \n",
    "            },\n",
    "            \"replica_count\": replica_count,\n",
    "            \"container_spec\": {\n",
    "                \"image_uri\": CONTAINER_URI,\n",
    "                \"args\": [],\n",
    "            },\n",
    "        }\n",
    "    ],\n",
    "    staging_bucket=BUCKET_NAME,\n",
    "    persistent_resource_id=PERSISTENT_RESOURCE_ID\n",
    ")\n"
   ]
  },
  {
   "cell_type": "code",
   "execution_count": 23,
   "id": "b430eba2-2412-44c2-8804-d1f056e3f195",
   "metadata": {
    "tags": []
   },
   "outputs": [
    {
     "name": "stdout",
     "output_type": "stream",
     "text": [
      "Please proceed to next step to start the training job!\n"
     ]
    }
   ],
   "source": [
    "if SA_ENABLED:\n",
    "    print(\"Please proceed to next step to start the training job!\")\n",
    "else:\n",
    "    print(\"Please open the Terminal in a new tab and run the command -> gcloud auth login```\")\n",
    "    print(\"----------------------------------------------------------------\")\n",
    "    print(\"Once done, continue on to start the training job\")"
   ]
  },
  {
   "cell_type": "code",
   "execution_count": 24,
   "id": "b2468c9d-dd5c-40de-b6e5-e85210af2bb9",
   "metadata": {
    "tags": []
   },
   "outputs": [
    {
     "name": "stdout",
     "output_type": "stream",
     "text": [
      "Running training job with service account\n",
      "Creating CustomJob\n",
      "CustomJob created. Resource name: projects/520607199607/locations/us-central1/customJobs/5133871406450212864\n",
      "To use this CustomJob in another session:\n",
      "custom_job = aiplatform.CustomJob.get('projects/520607199607/locations/us-central1/customJobs/5133871406450212864')\n",
      "View Custom Job:\n",
      "https://console.cloud.google.com/ai/platform/locations/us-central1/training/5133871406450212864?project=520607199607\n",
      "CustomJob projects/520607199607/locations/us-central1/customJobs/5133871406450212864 current state:\n",
      "JobState.JOB_STATE_PENDING\n",
      "CustomJob projects/520607199607/locations/us-central1/customJobs/5133871406450212864 current state:\n",
      "JobState.JOB_STATE_PENDING\n",
      "CustomJob projects/520607199607/locations/us-central1/customJobs/5133871406450212864 current state:\n",
      "JobState.JOB_STATE_PENDING\n",
      "CustomJob projects/520607199607/locations/us-central1/customJobs/5133871406450212864 current state:\n",
      "JobState.JOB_STATE_PENDING\n",
      "CustomJob projects/520607199607/locations/us-central1/customJobs/5133871406450212864 current state:\n",
      "JobState.JOB_STATE_PENDING\n",
      "CustomJob projects/520607199607/locations/us-central1/customJobs/5133871406450212864 current state:\n",
      "JobState.JOB_STATE_PENDING\n",
      "CustomJob projects/520607199607/locations/us-central1/customJobs/5133871406450212864 current state:\n",
      "JobState.JOB_STATE_PENDING\n",
      "CustomJob projects/520607199607/locations/us-central1/customJobs/5133871406450212864 current state:\n",
      "JobState.JOB_STATE_PENDING\n",
      "CustomJob projects/520607199607/locations/us-central1/customJobs/5133871406450212864 current state:\n",
      "JobState.JOB_STATE_RUNNING\n",
      "CustomJob projects/520607199607/locations/us-central1/customJobs/5133871406450212864 current state:\n",
      "JobState.JOB_STATE_RUNNING\n",
      "CustomJob projects/520607199607/locations/us-central1/customJobs/5133871406450212864 current state:\n",
      "JobState.JOB_STATE_RUNNING\n",
      "CustomJob projects/520607199607/locations/us-central1/customJobs/5133871406450212864 current state:\n",
      "JobState.JOB_STATE_RUNNING\n",
      "CustomJob projects/520607199607/locations/us-central1/customJobs/5133871406450212864 current state:\n",
      "JobState.JOB_STATE_RUNNING\n",
      "CustomJob projects/520607199607/locations/us-central1/customJobs/5133871406450212864 current state:\n",
      "JobState.JOB_STATE_RUNNING\n",
      "CustomJob projects/520607199607/locations/us-central1/customJobs/5133871406450212864 current state:\n",
      "JobState.JOB_STATE_RUNNING\n",
      "CustomJob projects/520607199607/locations/us-central1/customJobs/5133871406450212864 current state:\n",
      "JobState.JOB_STATE_RUNNING\n",
      "CustomJob projects/520607199607/locations/us-central1/customJobs/5133871406450212864 current state:\n",
      "JobState.JOB_STATE_RUNNING\n",
      "CustomJob projects/520607199607/locations/us-central1/customJobs/5133871406450212864 current state:\n",
      "JobState.JOB_STATE_RUNNING\n",
      "CustomJob projects/520607199607/locations/us-central1/customJobs/5133871406450212864 current state:\n",
      "JobState.JOB_STATE_RUNNING\n",
      "CustomJob projects/520607199607/locations/us-central1/customJobs/5133871406450212864 current state:\n",
      "JobState.JOB_STATE_RUNNING\n",
      "CustomJob projects/520607199607/locations/us-central1/customJobs/5133871406450212864 current state:\n",
      "JobState.JOB_STATE_RUNNING\n",
      "CustomJob projects/520607199607/locations/us-central1/customJobs/5133871406450212864 current state:\n",
      "JobState.JOB_STATE_FAILED\n"
     ]
    },
    {
     "ename": "RuntimeError",
     "evalue": "Job failed with:\ncode: 3\nmessage: \"The replica workerpool0-0 exited with a non-zero status of 1. Termination reason: Error. To find out more about why your job exited please check the logs: https://console.cloud.google.com/logs/viewer?project=520607199607&resource=ml_job%2Fjob_id%2F5133871406450212864&advancedFilter=resource.type%3D%22ml_job%22%0Aresource.labels.job_id%3D%225133871406450212864%22\"\n",
     "output_type": "error",
     "traceback": [
      "\u001b[0;31m---------------------------------------------------------------------------\u001b[0m",
      "\u001b[0;31mRuntimeError\u001b[0m                              Traceback (most recent call last)",
      "Cell \u001b[0;32mIn[24], line 3\u001b[0m\n\u001b[1;32m      1\u001b[0m \u001b[38;5;28;01mif\u001b[39;00m SA_ENABLED:\n\u001b[1;32m      2\u001b[0m     \u001b[38;5;28mprint\u001b[39m(\u001b[38;5;124m\"\u001b[39m\u001b[38;5;124mRunning training job with service account\u001b[39m\u001b[38;5;124m\"\u001b[39m)\n\u001b[0;32m----> 3\u001b[0m     \u001b[43mjob\u001b[49m\u001b[38;5;241;43m.\u001b[39;49m\u001b[43mrun\u001b[49m\u001b[43m(\u001b[49m\u001b[43mservice_account\u001b[49m\u001b[38;5;241;43m=\u001b[39;49m\u001b[43mSERVICE_ACCOUNT\u001b[49m\u001b[43m)\u001b[49m\n\u001b[1;32m      4\u001b[0m \u001b[38;5;28;01melse\u001b[39;00m:\n\u001b[1;32m      5\u001b[0m     \u001b[38;5;28mprint\u001b[39m(\u001b[38;5;124m\"\u001b[39m\u001b[38;5;124mRunning training job with user account\u001b[39m\u001b[38;5;124m\"\u001b[39m)\n",
      "File \u001b[0;32m~/.local/lib/python3.10/site-packages/google/cloud/aiplatform/jobs.py:2317\u001b[0m, in \u001b[0;36mCustomJob.run\u001b[0;34m(self, service_account, network, timeout, restart_job_on_worker_restart, enable_web_access, experiment, experiment_run, tensorboard, sync, create_request_timeout, disable_retries, persistent_resource_id, scheduling_strategy, max_wait_duration)\u001b[0m\n\u001b[1;32m   2314\u001b[0m network \u001b[38;5;241m=\u001b[39m network \u001b[38;5;129;01mor\u001b[39;00m initializer\u001b[38;5;241m.\u001b[39mglobal_config\u001b[38;5;241m.\u001b[39mnetwork\n\u001b[1;32m   2315\u001b[0m service_account \u001b[38;5;241m=\u001b[39m service_account \u001b[38;5;129;01mor\u001b[39;00m initializer\u001b[38;5;241m.\u001b[39mglobal_config\u001b[38;5;241m.\u001b[39mservice_account\n\u001b[0;32m-> 2317\u001b[0m \u001b[38;5;28;43mself\u001b[39;49m\u001b[38;5;241;43m.\u001b[39;49m\u001b[43m_run\u001b[49m\u001b[43m(\u001b[49m\n\u001b[1;32m   2318\u001b[0m \u001b[43m    \u001b[49m\u001b[43mservice_account\u001b[49m\u001b[38;5;241;43m=\u001b[39;49m\u001b[43mservice_account\u001b[49m\u001b[43m,\u001b[49m\n\u001b[1;32m   2319\u001b[0m \u001b[43m    \u001b[49m\u001b[43mnetwork\u001b[49m\u001b[38;5;241;43m=\u001b[39;49m\u001b[43mnetwork\u001b[49m\u001b[43m,\u001b[49m\n\u001b[1;32m   2320\u001b[0m \u001b[43m    \u001b[49m\u001b[43mtimeout\u001b[49m\u001b[38;5;241;43m=\u001b[39;49m\u001b[43mtimeout\u001b[49m\u001b[43m,\u001b[49m\n\u001b[1;32m   2321\u001b[0m \u001b[43m    \u001b[49m\u001b[43mrestart_job_on_worker_restart\u001b[49m\u001b[38;5;241;43m=\u001b[39;49m\u001b[43mrestart_job_on_worker_restart\u001b[49m\u001b[43m,\u001b[49m\n\u001b[1;32m   2322\u001b[0m \u001b[43m    \u001b[49m\u001b[43menable_web_access\u001b[49m\u001b[38;5;241;43m=\u001b[39;49m\u001b[43menable_web_access\u001b[49m\u001b[43m,\u001b[49m\n\u001b[1;32m   2323\u001b[0m \u001b[43m    \u001b[49m\u001b[43mexperiment\u001b[49m\u001b[38;5;241;43m=\u001b[39;49m\u001b[43mexperiment\u001b[49m\u001b[43m,\u001b[49m\n\u001b[1;32m   2324\u001b[0m \u001b[43m    \u001b[49m\u001b[43mexperiment_run\u001b[49m\u001b[38;5;241;43m=\u001b[39;49m\u001b[43mexperiment_run\u001b[49m\u001b[43m,\u001b[49m\n\u001b[1;32m   2325\u001b[0m \u001b[43m    \u001b[49m\u001b[43mtensorboard\u001b[49m\u001b[38;5;241;43m=\u001b[39;49m\u001b[43mtensorboard\u001b[49m\u001b[43m,\u001b[49m\n\u001b[1;32m   2326\u001b[0m \u001b[43m    \u001b[49m\u001b[43msync\u001b[49m\u001b[38;5;241;43m=\u001b[39;49m\u001b[43msync\u001b[49m\u001b[43m,\u001b[49m\n\u001b[1;32m   2327\u001b[0m \u001b[43m    \u001b[49m\u001b[43mcreate_request_timeout\u001b[49m\u001b[38;5;241;43m=\u001b[39;49m\u001b[43mcreate_request_timeout\u001b[49m\u001b[43m,\u001b[49m\n\u001b[1;32m   2328\u001b[0m \u001b[43m    \u001b[49m\u001b[43mdisable_retries\u001b[49m\u001b[38;5;241;43m=\u001b[39;49m\u001b[43mdisable_retries\u001b[49m\u001b[43m,\u001b[49m\n\u001b[1;32m   2329\u001b[0m \u001b[43m    \u001b[49m\u001b[43mpersistent_resource_id\u001b[49m\u001b[38;5;241;43m=\u001b[39;49m\u001b[43mpersistent_resource_id\u001b[49m\u001b[43m,\u001b[49m\n\u001b[1;32m   2330\u001b[0m \u001b[43m    \u001b[49m\u001b[43mscheduling_strategy\u001b[49m\u001b[38;5;241;43m=\u001b[39;49m\u001b[43mscheduling_strategy\u001b[49m\u001b[43m,\u001b[49m\n\u001b[1;32m   2331\u001b[0m \u001b[43m    \u001b[49m\u001b[43mmax_wait_duration\u001b[49m\u001b[38;5;241;43m=\u001b[39;49m\u001b[43mmax_wait_duration\u001b[49m\u001b[43m,\u001b[49m\n\u001b[1;32m   2332\u001b[0m \u001b[43m\u001b[49m\u001b[43m)\u001b[49m\n",
      "File \u001b[0;32m~/.local/lib/python3.10/site-packages/google/cloud/aiplatform/base.py:863\u001b[0m, in \u001b[0;36moptional_sync.<locals>.optional_run_in_thread.<locals>.wrapper\u001b[0;34m(*args, **kwargs)\u001b[0m\n\u001b[1;32m    861\u001b[0m     \u001b[38;5;28;01mif\u001b[39;00m \u001b[38;5;28mself\u001b[39m:\n\u001b[1;32m    862\u001b[0m         VertexAiResourceNounWithFutureManager\u001b[38;5;241m.\u001b[39mwait(\u001b[38;5;28mself\u001b[39m)\n\u001b[0;32m--> 863\u001b[0m     \u001b[38;5;28;01mreturn\u001b[39;00m \u001b[43mmethod\u001b[49m\u001b[43m(\u001b[49m\u001b[38;5;241;43m*\u001b[39;49m\u001b[43margs\u001b[49m\u001b[43m,\u001b[49m\u001b[43m \u001b[49m\u001b[38;5;241;43m*\u001b[39;49m\u001b[38;5;241;43m*\u001b[39;49m\u001b[43mkwargs\u001b[49m\u001b[43m)\u001b[49m\n\u001b[1;32m    865\u001b[0m \u001b[38;5;66;03m# callbacks to call within the Future (in same Thread)\u001b[39;00m\n\u001b[1;32m    866\u001b[0m internal_callbacks \u001b[38;5;241m=\u001b[39m []\n",
      "File \u001b[0;32m~/.local/lib/python3.10/site-packages/google/cloud/aiplatform/jobs.py:2440\u001b[0m, in \u001b[0;36mCustomJob._run\u001b[0;34m(self, service_account, network, timeout, restart_job_on_worker_restart, enable_web_access, experiment, experiment_run, tensorboard, sync, create_request_timeout, disable_retries, persistent_resource_id, scheduling_strategy, max_wait_duration)\u001b[0m\n\u001b[1;32m   2352\u001b[0m \u001b[38;5;250m\u001b[39m\u001b[38;5;124;03m\"\"\"Helper method to ensure network synchronization and to run the configured CustomJob.\u001b[39;00m\n\u001b[1;32m   2353\u001b[0m \n\u001b[1;32m   2354\u001b[0m \u001b[38;5;124;03mArgs:\u001b[39;00m\n\u001b[0;32m   (...)\u001b[0m\n\u001b[1;32m   2422\u001b[0m \u001b[38;5;124;03m        the job will wait indefinitely. The default is 1 day.\u001b[39;00m\n\u001b[1;32m   2423\u001b[0m \u001b[38;5;124;03m\"\"\"\u001b[39;00m\n\u001b[1;32m   2424\u001b[0m \u001b[38;5;28mself\u001b[39m\u001b[38;5;241m.\u001b[39msubmit(\n\u001b[1;32m   2425\u001b[0m     service_account\u001b[38;5;241m=\u001b[39mservice_account,\n\u001b[1;32m   2426\u001b[0m     network\u001b[38;5;241m=\u001b[39mnetwork,\n\u001b[0;32m   (...)\u001b[0m\n\u001b[1;32m   2437\u001b[0m     max_wait_duration\u001b[38;5;241m=\u001b[39mmax_wait_duration,\n\u001b[1;32m   2438\u001b[0m )\n\u001b[0;32m-> 2440\u001b[0m \u001b[38;5;28;43mself\u001b[39;49m\u001b[38;5;241;43m.\u001b[39;49m\u001b[43m_block_until_complete\u001b[49m\u001b[43m(\u001b[49m\u001b[43m)\u001b[49m\n",
      "File \u001b[0;32m~/.local/lib/python3.10/site-packages/google/cloud/aiplatform/jobs.py:1674\u001b[0m, in \u001b[0;36m_RunnableJob._block_until_complete\u001b[0;34m(self)\u001b[0m\n\u001b[1;32m   1671\u001b[0m \u001b[38;5;66;03m# Error is only populated when the job state is\u001b[39;00m\n\u001b[1;32m   1672\u001b[0m \u001b[38;5;66;03m# JOB_STATE_FAILED or JOB_STATE_CANCELLED.\u001b[39;00m\n\u001b[1;32m   1673\u001b[0m \u001b[38;5;28;01mif\u001b[39;00m \u001b[38;5;28mself\u001b[39m\u001b[38;5;241m.\u001b[39m_gca_resource\u001b[38;5;241m.\u001b[39mstate \u001b[38;5;129;01min\u001b[39;00m _JOB_ERROR_STATES:\n\u001b[0;32m-> 1674\u001b[0m     \u001b[38;5;28;01mraise\u001b[39;00m \u001b[38;5;167;01mRuntimeError\u001b[39;00m(\u001b[38;5;124m\"\u001b[39m\u001b[38;5;124mJob failed with:\u001b[39m\u001b[38;5;130;01m\\n\u001b[39;00m\u001b[38;5;132;01m%s\u001b[39;00m\u001b[38;5;124m\"\u001b[39m \u001b[38;5;241m%\u001b[39m \u001b[38;5;28mself\u001b[39m\u001b[38;5;241m.\u001b[39m_gca_resource\u001b[38;5;241m.\u001b[39merror)\n\u001b[1;32m   1675\u001b[0m \u001b[38;5;28;01melse\u001b[39;00m:\n\u001b[1;32m   1676\u001b[0m     _LOGGER\u001b[38;5;241m.\u001b[39mlog_action_completed_against_resource(\u001b[38;5;124m\"\u001b[39m\u001b[38;5;124mrun\u001b[39m\u001b[38;5;124m\"\u001b[39m, \u001b[38;5;124m\"\u001b[39m\u001b[38;5;124mcompleted\u001b[39m\u001b[38;5;124m\"\u001b[39m, \u001b[38;5;28mself\u001b[39m)\n",
      "\u001b[0;31mRuntimeError\u001b[0m: Job failed with:\ncode: 3\nmessage: \"The replica workerpool0-0 exited with a non-zero status of 1. Termination reason: Error. To find out more about why your job exited please check the logs: https://console.cloud.google.com/logs/viewer?project=520607199607&resource=ml_job%2Fjob_id%2F5133871406450212864&advancedFilter=resource.type%3D%22ml_job%22%0Aresource.labels.job_id%3D%225133871406450212864%22\"\n"
     ]
    }
   ],
   "source": [
    "if SA_ENABLED:\n",
    "    print(\"Running training job with service account\")\n",
    "    job.run(service_account=SERVICE_ACCOUNT)\n",
    "else:\n",
    "    print(\"Running training job with user account\")\n",
    "    job.run()\n",
    "\n",
    "print(\"The finetuned models of different trials can be found at: \", output_dir)\n",
    "print(\"The finetuned model merged with the base model can be found at: \",merged_model_output_dir,)"
   ]
  },
  {
   "cell_type": "code",
   "execution_count": null,
   "id": "9b58ed31-3200-41c5-9434-72327547fc48",
   "metadata": {},
   "outputs": [],
   "source": [
    "import random\n",
    "import string\n",
    "from typing import Union\n",
    "\n",
    "import pandas as pd\n",
    "from google.cloud import bigquery\n",
    "\n",
    "# Generate unique ID to help w/ unique naming of certain pieces\n",
    "ID = \"\".join(random.choices(string.ascii_lowercase + string.digits, k=5))\n",
    "\n",
    "# Replace Region here\n",
    "REGION = \"us-central1\"\n",
    "\n",
    "# static parameters\n",
    "GCP_PROJECTS = !gcloud config get-value project\n",
    "PROJECT_ID = GCP_PROJECTS[0]\n",
    "BUCKET_NAME = f\"{PROJECT_ID}-fraudfinder\"\n",
    "UPLOAD_BUCKET = f\"{PROJECT_ID}-model-upload\"\n",
    "AGENT_BUCKET = f\"{PROJECT_ID}-ai-workshops\"\n",
    "TRAINING_DS_SIZE = 1000"
   ]
  },
  {
   "cell_type": "code",
   "execution_count": null,
   "id": "907c0053-d42e-42f3-85db-644a478d7386",
   "metadata": {},
   "outputs": [],
   "source": [
    "config = f\"\"\"\n",
    "BUCKET_NAME: \\\"{BUCKET_NAME}\\\"\n",
    "PROJECT: \\\"{PROJECT_ID}\\\"\n",
    "PROJECT_ID: \\\"{PROJECT_ID}\\\"\n",
    "REGION: \\\"{REGION}\\\"\n",
    "ID: \\\"fvde2\\\"\n",
    "FEATURESTORE_ID: \\\"fraudfinder_{ID}\\\"\n",
    "MODEL_NAME: \\\"ff_model\\\"\n",
    "ENDPOINT_NAME: \\\"ff_model_endpoint\\\"\n",
    "TRAINING_DS_SIZE: \\\"{TRAINING_DS_SIZE}\\\"\n",
    "DATA_DIR: \"data\"\n",
    "TRAIN_DATA_DIR: \"train\"\n",
    "CUSTOMER_ENTITY: \"customer\"\n",
    "TERMINAL_ENTITY: \"terminal\"\n",
    "TARGET: \"tx_fraud\"\n",
    "CUSTOMER_ENTITY_ID: customer\n",
    "CUSTOMER_ENTITY_ID_FIELD: customer_id\n",
    "TERMINAL_ENTITY_ID: terminal\n",
    "TERMINALS_ENTITY_ID_FIELD: terminal_id\n",
    "FEATUREVIEW_ID: \\\"fraudfinder_view_{ID}\\\"\n",
    "#NETWORK: fraud-finder-network\n",
    "#SUBNET: https://www.googleapis.com/compute/v1/projects/fraud-finder-lab/regions/us-central1/subnetworks/us-central1\n",
    "#MODEL_REGISTRY: ff_model\n",
    "RAW_BQ_TRANSACTION_TABLE_URI: fraud-finder-lab.tx.tx\n",
    "RAW_BQ_LABELS_TABLE_URI: fraud-finder-lab.tx.txlabels\n",
    "FEATURES_BQ_TABLE_URI: fraud-finder-lab.tx.wide_features_table\n",
    "FEATURE_TIME: feature_ts\n",
    "ONLINE_STORAGE_NODES: 1\n",
    "SUBSCRIPTION_NAME: ff-tx-for-feat-eng-sub\n",
    "SUBSCRIPTION_PATH: projects/fraud-finder-lab/subscriptions/ff-tx-for-feat-eng-sub\n",
    "DROP_COLUMNS:\n",
    "- timestamp\n",
    "- entity_type_customer\n",
    "- entity_type_terminal\n",
    "FEAT_COLUMNS:\n",
    "- customer_id_avg_amount_14day_window\n",
    "- customer_id_avg_amount_15min_window\n",
    "- customer_id_avg_amount_1day_window\n",
    "- customer_id_avg_amount_30min_window\n",
    "- customer_id_avg_amount_60min_window\n",
    "- customer_id_avg_amount_7day_window\n",
    "- customer_id_nb_tx_14day_window\n",
    "- customer_id_nb_tx_15min_window\n",
    "- customer_id_nb_tx_1day_window\n",
    "- customer_id_nb_tx_30min_window\n",
    "- customer_id_nb_tx_60min_window\n",
    "- customer_id_nb_tx_7day_window\n",
    "- terminal_id_avg_amount_15min_window\n",
    "- terminal_id_avg_amount_30min_window\n",
    "- terminal_id_avg_amount_60min_window\n",
    "- terminal_id_nb_tx_14day_window\n",
    "- terminal_id_nb_tx_15min_window\n",
    "- terminal_id_nb_tx_1day_window\n",
    "- terminal_id_nb_tx_30min_window\n",
    "- terminal_id_nb_tx_60min_window\n",
    "- terminal_id_nb_tx_7day_window\n",
    "- terminal_id_risk_14day_window\n",
    "- terminal_id_risk_1day_window\n",
    "- terminal_id_risk_7day_window\n",
    "- tx_amount\n",
    "TARGET_COLUMN: tx_fraud\n",
    "DATA_SCHEMA:\n",
    "  timestamp: object\n",
    "  tx_amount: float64\n",
    "  tx_fraud: Int64\n",
    "  entity_type_customer: Int64\n",
    "  customer_id_nb_tx_1day_window: Int64\n",
    "  customer_id_nb_tx_7day_window: Int64\n",
    "  customer_id_nb_tx_14day_window: Int64\n",
    "  customer_id_avg_amount_1day_window: float64\n",
    "  customer_id_avg_amount_7day_window: float64\n",
    "  customer_id_avg_amount_14day_window: float64\n",
    "  customer_id_nb_tx_15min_window: Int64\n",
    "  customer_id_avg_amount_15min_window: float64\n",
    "  customer_id_nb_tx_30min_window: Int64\n",
    "  customer_id_avg_amount_30min_window: float64\n",
    "  customer_id_nb_tx_60min_window: Int64\n",
    "  customer_id_avg_amount_60min_window: float64\n",
    "  entity_type_terminal: Int64\n",
    "  terminal_id_nb_tx_1day_window: Int64\n",
    "  terminal_id_nb_tx_7day_window: Int64\n",
    "  terminal_id_nb_tx_14day_window: Int64\n",
    "  terminal_id_risk_1day_window: float64\n",
    "  terminal_id_risk_7day_window: float64\n",
    "  terminal_id_risk_14day_window: float64\n",
    "  terminal_id_nb_tx_15min_window: Int64\n",
    "  terminal_id_avg_amount_15min_window: float64\n",
    "  terminal_id_nb_tx_30min_window: Int64\n",
    "  terminal_id_avg_amount_30min_window: float64\n",
    "  terminal_id_nb_tx_60min_window: Int64\n",
    "  terminal_id_avg_amount_60min_window: float64\n",
    "MODEL_NAME: ff_model\n",
    "EXPERIMENT_NAME: \\\"ff-experiment-{ID}\\\"\n",
    "DATA_URI: \\\"gs://{BUCKET_NAME}/data\\\"\n",
    "TRAIN_DATA_URI: \\\"gs://{BUCKET_NAME}/data/train\\\"\n",
    "READ_INSTANCES_TABLE: \\\"ground_truth_{ID}\\\"\n",
    "READ_INSTANCES_URI: \\\"bq://{PROJECT_ID}.tx.ground_truth_8wc8m\\\"\n",
    "DATASET_NAME: fraud_finder_dataset_8wc8m\n",
    "#JOB_NAME: fraudfinder-train-xgb-8wc8m\n",
    "ENDPOINT_NAME: ff_model_endpoint\n",
    "#MODEL_SERVING_IMAGE_URI: \"us-docker.pkg.dev/vertex-ai/prediction/xgboost-cpu.1-7:latest\"\n",
    "#IMAGE_REPOSITORY: fraudfinder-8wc8m\n",
    "#IMAGE_NAME: dask-xgb-classificator\n",
    "IMAGE_TAG: latest\n",
    "#IMAGE_URI: \"us-central1-docker.pkg.dev/fraud-finder-lab/fraudfinder-8wc8m/dask-xgb-classificator:latest\"\n",
    "#TRAIN_COMPUTE: e2-standard-4\n",
    "#DEPLOY_COMPUTE: n1-standard-4\n",
    "BASE_IMAGE: \"python:3.10\"\n",
    "PIPELINE_NAME: fraud-finder-xgb-pipeline-8wc8m\n",
    "PIPELINE_ROOT: \"gs://fraud-finder-lab-fraudfinder/pipelines\"\n",
    "BQ_DATASET: tx\n",
    "METRICS_URI: \"gs://fraud-finder-lab-fraudfinder/deliverables/metrics.json\"\n",
    "AVG_PR_THRESHOLD: 0.2\n",
    "MODEL_THRESHOLD: 0.5\n",
    "AVG_PR_CONDITION: avg_pr_condition\n",
    "PERSISTENT_RESOURCE_ID: null\n",
    "REPLICA_COUNT: 1\n",
    "SERVICE_ACCOUNT: 949651794396-compute@developer.gserviceaccount.com\n",
    "\"\"\""
   ]
  }
 ],
 "metadata": {
  "environment": {
   "kernel": "conda-base-py",
   "name": "workbench-notebooks.m125",
   "type": "gcloud",
   "uri": "us-docker.pkg.dev/deeplearning-platform-release/gcr.io/workbench-notebooks:m125"
  },
  "kernelspec": {
   "display_name": "Python 3 (ipykernel) (Local)",
   "language": "python",
   "name": "conda-base-py"
  },
  "language_info": {
   "codemirror_mode": {
    "name": "ipython",
    "version": 3
   },
   "file_extension": ".py",
   "mimetype": "text/x-python",
   "name": "python",
   "nbconvert_exporter": "python",
   "pygments_lexer": "ipython3",
   "version": "3.10.15"
  }
 },
 "nbformat": 4,
 "nbformat_minor": 5
}
